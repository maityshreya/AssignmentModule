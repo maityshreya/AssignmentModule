{
 "cells": [
  {
   "cell_type": "markdown",
   "metadata": {},
   "source": [
    "Deploying a Flask application to a production server using Gunicorn and Nginx involves several steps. Below is a comprehensive guide:\n",
    "\n",
    "Step 1: Set Up Your Flask Application\n",
    "Ensure your Flask application is structured properly. A basic Flask app might look like this:"
   ]
  },
  {
   "cell_type": "code",
   "execution_count": 1,
   "metadata": {},
   "outputs": [
    {
     "name": "stdout",
     "output_type": "stream",
     "text": [
      "Requirement already satisfied: flask in e:\\dddowld\\lib\\site-packages (3.0.2)\n",
      "Requirement already satisfied: Werkzeug>=3.0.0 in e:\\dddowld\\lib\\site-packages (from flask) (3.0.1)\n",
      "Requirement already satisfied: Jinja2>=3.1.2 in e:\\dddowld\\lib\\site-packages (from flask) (3.1.3)\n",
      "Requirement already satisfied: itsdangerous>=2.1.2 in e:\\dddowld\\lib\\site-packages (from flask) (2.1.2)\n",
      "Requirement already satisfied: click>=8.1.3 in e:\\dddowld\\lib\\site-packages (from flask) (8.1.7)\n",
      "Requirement already satisfied: blinker>=1.6.2 in e:\\dddowld\\lib\\site-packages (from flask) (1.7.0)\n",
      "Requirement already satisfied: colorama in c:\\users\\dell\\appdata\\roaming\\python\\python312\\site-packages (from click>=8.1.3->flask) (0.4.6)\n",
      "Requirement already satisfied: MarkupSafe>=2.0 in e:\\dddowld\\lib\\site-packages (from Jinja2>=3.1.2->flask) (2.1.5)\n",
      "Note: you may need to restart the kernel to use updated packages.\n"
     ]
    },
    {
     "name": "stderr",
     "output_type": "stream",
     "text": [
      "\n",
      "[notice] A new release of pip is available: 24.0 -> 24.1.2\n",
      "[notice] To update, run: python.exe -m pip install --upgrade pip\n"
     ]
    }
   ],
   "source": [
    "pip install flask"
   ]
  },
  {
   "cell_type": "code",
   "execution_count": null,
   "metadata": {},
   "outputs": [],
   "source": [
    "# app.py\n",
    "\n",
    "from flask import Flask\n",
    "\n",
    "app = Flask(__name__)\n",
    "\n",
    "@app.route('/')\n",
    "def hello():\n",
    "    return \"Hello, World!\"\n",
    "\n",
    "if __name__ == \"__main__\":\n",
    "    app.run()\n"
   ]
  },
  {
   "cell_type": "markdown",
   "metadata": {},
   "source": [
    "Step 2: Install Required Packages\n",
    "Ensure you have Flask, Gunicorn, and Nginx installed. You can install Flask and Gunicorn via pip:"
   ]
  },
  {
   "cell_type": "code",
   "execution_count": 2,
   "metadata": {},
   "outputs": [
    {
     "name": "stdout",
     "output_type": "stream",
     "text": [
      "Requirement already satisfied: Flask in e:\\dddowld\\lib\\site-packages (3.0.2)\n",
      "Collecting gunicorn\n",
      "  Downloading gunicorn-22.0.0-py3-none-any.whl.metadata (4.4 kB)\n",
      "Requirement already satisfied: Werkzeug>=3.0.0 in e:\\dddowld\\lib\\site-packages (from Flask) (3.0.1)\n",
      "Requirement already satisfied: Jinja2>=3.1.2 in e:\\dddowld\\lib\\site-packages (from Flask) (3.1.3)\n",
      "Requirement already satisfied: itsdangerous>=2.1.2 in e:\\dddowld\\lib\\site-packages (from Flask) (2.1.2)\n",
      "Requirement already satisfied: click>=8.1.3 in e:\\dddowld\\lib\\site-packages (from Flask) (8.1.7)\n",
      "Requirement already satisfied: blinker>=1.6.2 in e:\\dddowld\\lib\\site-packages (from Flask) (1.7.0)\n",
      "Requirement already satisfied: packaging in c:\\users\\dell\\appdata\\roaming\\python\\python312\\site-packages (from gunicorn) (23.2)\n",
      "Requirement already satisfied: colorama in c:\\users\\dell\\appdata\\roaming\\python\\python312\\site-packages (from click>=8.1.3->Flask) (0.4.6)\n",
      "Requirement already satisfied: MarkupSafe>=2.0 in e:\\dddowld\\lib\\site-packages (from Jinja2>=3.1.2->Flask) (2.1.5)\n",
      "Downloading gunicorn-22.0.0-py3-none-any.whl (84 kB)\n",
      "   ---------------------------------------- 0.0/84.4 kB ? eta -:--:--\n",
      "   ---- ----------------------------------- 10.2/84.4 kB ? eta -:--:--\n",
      "   ------------------- -------------------- 41.0/84.4 kB 487.6 kB/s eta 0:00:01\n",
      "   ---------------------------------------- 84.4/84.4 kB 680.8 kB/s eta 0:00:00\n",
      "Installing collected packages: gunicorn\n",
      "Successfully installed gunicorn-22.0.0\n",
      "Note: you may need to restart the kernel to use updated packages.\n"
     ]
    },
    {
     "name": "stderr",
     "output_type": "stream",
     "text": [
      "\n",
      "[notice] A new release of pip is available: 24.0 -> 24.1.2\n",
      "[notice] To update, run: python.exe -m pip install --upgrade pip\n"
     ]
    }
   ],
   "source": [
    "pip install Flask gunicorn"
   ]
  },
  {
   "cell_type": "markdown",
   "metadata": {},
   "source": [
    "Install Nginx using your package manager:\n",
    "sudo apt update\n",
    "sudo apt install nginx"
   ]
  },
  {
   "cell_type": "markdown",
   "metadata": {},
   "source": [
    "Step 3: Configure Gunicorn\n",
    "Create a Gunicorn configuration file or directly run Gunicorn with appropriate parameters. For a simple setup, you can create a wsgi.py file:"
   ]
  },
  {
   "cell_type": "code",
   "execution_count": null,
   "metadata": {},
   "outputs": [],
   "source": [
    "# wsgi.py\n",
    "\n",
    "from app import app\n",
    "\n",
    "if __name__ == \"__main__\":\n",
    "    app.run()\n"
   ]
  },
  {
   "cell_type": "markdown",
   "metadata": {},
   "source": [
    "Run Gunicorn to serve your application:\n",
    "gunicorn --bind 0.0.0.0:8000 wsgi:app\n",
    "This command tells Gunicorn to bind to all IP addresses on port 8000 and use the app object from wsgi.py.\n"
   ]
  },
  {
   "cell_type": "markdown",
   "metadata": {},
   "source": [
    "Step 4: Configure Nginx\n",
    "Nginx will act as a reverse proxy, forwarding requests to Gunicorn. Create a new Nginx server block configuration file:\n",
    "sudo nano /etc/nginx/sites-available/your_flask_app\n"
   ]
  },
  {
   "cell_type": "markdown",
   "metadata": {},
   "source": [
    "Add the following configuration:"
   ]
  },
  {
   "cell_type": "markdown",
   "metadata": {},
   "source": [
    "server {\n",
    "    listen 80;\n",
    "    server_name your_domain.com;\n",
    "\n",
    "    location / {\n",
    "        proxy_pass http://127.0.0.1:8000;\n",
    "        proxy_set_header Host $host;\n",
    "        proxy_set_header X-Real-IP $remote_addr;\n",
    "        proxy_set_header X-Forwarded-For $proxy_add_x_forwarded_for;\n",
    "        proxy_set_header X-Forwarded-Proto $scheme;\n",
    "    }\n",
    "}\n"
   ]
  },
  {
   "cell_type": "markdown",
   "metadata": {},
   "source": [
    "sudo ln -s /etc/nginx/sites-available/your_flask_app /etc/nginx/sites-enabled\n"
   ]
  },
  {
   "cell_type": "markdown",
   "metadata": {},
   "source": [
    "Test the Nginx configuration for syntax errors:\n",
    "sudo nginx -t\n"
   ]
  },
  {
   "cell_type": "markdown",
   "metadata": {},
   "source": [
    "Reload Nginx to apply the changes:\n",
    "             sudo systemctl reload nginx\n"
   ]
  },
  {
   "cell_type": "markdown",
   "metadata": {},
   "source": [
    "Step 5: Set Up a Systemd Service for Gunicorn\n",
    "To ensure your Flask application runs on server boot and manages restarting, set up a systemd service for Gunicorn. Create a service file:\n",
    "sudo nano /etc/systemd/system/gunicorn.service\n"
   ]
  },
  {
   "cell_type": "markdown",
   "metadata": {},
   "source": [
    "\n",
    "Add the following configuration:\n",
    "[Unit]\n",
    "Description=Gunicorn instance to serve your_flask_app\n",
    "After=network.target\n",
    "\n",
    "[Service]\n",
    "User=your_user\n",
    "Group=www-data\n",
    "WorkingDirectory=/path/to/your/app\n",
    "ExecStart=/usr/bin/gunicorn --workers 3 --bind unix:your_flask_app.sock -m 007 wsgi:app\n",
    "\n",
    "[Install]\n",
    "WantedBy=multi-user.target\n",
    "sudo systemctl daemon-reload\n",
    "sudo systemctl start gunicorn\n",
    "sudo systemctl enable gunicorn\n"
   ]
  },
  {
   "cell_type": "markdown",
   "metadata": {},
   "source": [
    "Step 6: Update Nginx to Use Unix Socket\n",
    "Update the Nginx configuration to use the Unix socket defined in the Gunicorn service:\n",
    "server {\n",
    "    listen 80;\n",
    "    server_name your_domain.com;\n",
    "\n",
    "    location / {\n",
    "        proxy_pass http://unix:/path/to/your/app/your_flask_app.sock;\n",
    "        proxy_set_header Host $host;\n",
    "        proxy_set_header X-Real-IP $remote_addr;\n",
    "        proxy_set_header X-Forwarded-For $proxy_add_x_forwarded_for;\n",
    "        proxy_set_header X-Forwarded-Proto $scheme;\n",
    "    }\n",
    "}\n"
   ]
  },
  {
   "cell_type": "markdown",
   "metadata": {},
   "source": [
    "Reload Nginx:\n",
    "  sudo systemctl reload nginx\n"
   ]
  },
  {
   "cell_type": "markdown",
   "metadata": {},
   "source": [
    "Step 7: Secure Your Application\n",
    "Consider securing your application with SSL. You can use Let's Encrypt for free SSL certificates. Install Certbot and run it:\n",
    "\n",
    "bash\n",
    "Copy code\n",
    "sudo apt install certbot python3-certbot-nginx\n",
    "sudo certbot --nginx -d your_domain.com"
   ]
  }
 ],
 "metadata": {
  "kernelspec": {
   "display_name": "Python 3",
   "language": "python",
   "name": "python3"
  },
  "language_info": {
   "codemirror_mode": {
    "name": "ipython",
    "version": 3
   },
   "file_extension": ".py",
   "mimetype": "text/x-python",
   "name": "python",
   "nbconvert_exporter": "python",
   "pygments_lexer": "ipython3",
   "version": "3.12.2"
  }
 },
 "nbformat": 4,
 "nbformat_minor": 2
}
